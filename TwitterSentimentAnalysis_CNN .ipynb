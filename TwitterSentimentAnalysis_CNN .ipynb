{
 "cells": [
  {
   "cell_type": "markdown",
   "metadata": {},
   "source": [
    "## For 3 categories"
   ]
  },
  {
   "cell_type": "code",
   "execution_count": 1,
   "metadata": {},
   "outputs": [],
   "source": [
    "import pandas as pd\n",
    "import numpy as np"
   ]
  },
  {
   "cell_type": "code",
   "execution_count": 2,
   "metadata": {},
   "outputs": [],
   "source": [
    "data=pd.read_excel(\"sample tweets.xlsx\")"
   ]
  },
  {
   "cell_type": "code",
   "execution_count": 3,
   "metadata": {},
   "outputs": [],
   "source": [
    "X=data['SentimentText']\n",
    "Y=data['Sentiment']"
   ]
  },
  {
   "cell_type": "code",
   "execution_count": 4,
   "metadata": {},
   "outputs": [],
   "source": [
    "with open('../glove.txt',encoding='mbcs') as f:\n",
    "    doc=f.readlines()\n",
    "    \n",
    "glove_emb={\n",
    "          }\n",
    "for i in range(len(doc)):\n",
    "    word   = doc[i].split(\" \")[0]\n",
    "    vector = np.array(doc[i].split(\" \")[1:],dtype='float32')\n",
    "    \n",
    "    glove_emb[word]=vector"
   ]
  },
  {
   "cell_type": "code",
   "execution_count": 5,
   "metadata": {},
   "outputs": [
    {
     "data": {
      "text/plain": [
       "array([ 4.1800e-01,  2.4968e-01, -4.1242e-01,  1.2170e-01,  3.4527e-01,\n",
       "       -4.4457e-02, -4.9688e-01, -1.7862e-01, -6.6023e-04, -6.5660e-01,\n",
       "        2.7843e-01, -1.4767e-01, -5.5677e-01,  1.4658e-01, -9.5095e-03,\n",
       "        1.1658e-02,  1.0204e-01, -1.2792e-01, -8.4430e-01, -1.2181e-01,\n",
       "       -1.6801e-02, -3.3279e-01, -1.5520e-01, -2.3131e-01, -1.9181e-01,\n",
       "       -1.8823e+00, -7.6746e-01,  9.9051e-02, -4.2125e-01, -1.9526e-01,\n",
       "        4.0071e+00, -1.8594e-01, -5.2287e-01, -3.1681e-01,  5.9213e-04,\n",
       "        7.4449e-03,  1.7778e-01, -1.5897e-01,  1.2041e-02, -5.4223e-02,\n",
       "       -2.9871e-01, -1.5749e-01, -3.4758e-01, -4.5637e-02, -4.4251e-01,\n",
       "        1.8785e-01,  2.7849e-03, -1.8411e-01, -1.1514e-01, -7.8581e-01],\n",
       "      dtype=float32)"
      ]
     },
     "execution_count": 5,
     "metadata": {},
     "output_type": "execute_result"
    }
   ],
   "source": [
    "glove_emb['the']"
   ]
  },
  {
   "cell_type": "code",
   "execution_count": 6,
   "metadata": {},
   "outputs": [],
   "source": [
    "from nltk.corpus import stopwords\n",
    "from nltk.tokenize import RegexpTokenizer\n",
    "rg=RegexpTokenizer(\"[a-zA-Z]+\")\n",
    "sw=stopwords.words(\"english\")"
   ]
  },
  {
   "cell_type": "code",
   "execution_count": 7,
   "metadata": {},
   "outputs": [],
   "source": [
    "unique={\n",
    "    \n",
    "}\n",
    "weight=[]\n",
    "k=1;\n",
    "X_train=np.zeros((10000,45))\n",
    "X_train=X_train.astype('int32')\n",
    "for i in range(X.shape[0]):\n",
    "    words=rg.tokenize(X[i])\n",
    "    words=[w for w in words if w not in sw and w in glove_emb and len(w)>2]\n",
    "    \n",
    "    for j in range(min(len(words),45)):\n",
    "        if words[j].lower() in unique:\n",
    "            X_train[i][j]=unique[words[j].lower()]\n",
    "            \n",
    "        else:\n",
    "            weight.append(glove_emb[words[j]])\n",
    "            X_train[i][j]=k\n",
    "            unique[words[j].lower()]=k\n",
    "            k+=1"
   ]
  },
  {
   "cell_type": "code",
   "execution_count": 8,
   "metadata": {},
   "outputs": [],
   "source": [
    "weight_matrix=[np.zeros((50,))]+weight\n",
    "weight_matrix=np.array(weight_matrix)"
   ]
  },
  {
   "cell_type": "code",
   "execution_count": 9,
   "metadata": {},
   "outputs": [
    {
     "data": {
      "text/plain": [
       "(4185, 50)"
      ]
     },
     "execution_count": 9,
     "metadata": {},
     "output_type": "execute_result"
    }
   ],
   "source": [
    "weight_matrix.shape"
   ]
  },
  {
   "cell_type": "code",
   "execution_count": 10,
   "metadata": {},
   "outputs": [],
   "source": [
    "from sklearn.preprocessing import LabelEncoder"
   ]
  },
  {
   "cell_type": "code",
   "execution_count": 11,
   "metadata": {},
   "outputs": [],
   "source": [
    "le=LabelEncoder()"
   ]
  },
  {
   "cell_type": "code",
   "execution_count": 12,
   "metadata": {},
   "outputs": [],
   "source": [
    "Y_encoded=le.fit_transform(Y)"
   ]
  },
  {
   "cell_type": "code",
   "execution_count": 13,
   "metadata": {},
   "outputs": [
    {
     "name": "stderr",
     "output_type": "stream",
     "text": [
      "Using TensorFlow backend.\n"
     ]
    }
   ],
   "source": [
    "from keras.utils import to_categorical\n",
    "Y_train=to_categorical(Y_encoded)"
   ]
  },
  {
   "cell_type": "code",
   "execution_count": 14,
   "metadata": {},
   "outputs": [
    {
     "data": {
      "text/plain": [
       "array([[1., 0., 0.],\n",
       "       [0., 1., 0.],\n",
       "       [1., 0., 0.],\n",
       "       ...,\n",
       "       [1., 0., 0.],\n",
       "       [1., 0., 0.],\n",
       "       [0., 1., 0.]], dtype=float32)"
      ]
     },
     "execution_count": 14,
     "metadata": {},
     "output_type": "execute_result"
    }
   ],
   "source": [
    "Y_train"
   ]
  },
  {
   "cell_type": "code",
   "execution_count": 15,
   "metadata": {},
   "outputs": [],
   "source": [
    "from keras.models import Sequential\n",
    "from keras.layers import *"
   ]
  },
  {
   "cell_type": "code",
   "execution_count": 22,
   "metadata": {},
   "outputs": [
    {
     "name": "stdout",
     "output_type": "stream",
     "text": [
      "Model: \"sequential_6\"\n",
      "_________________________________________________________________\n",
      "Layer (type)                 Output Shape              Param #   \n",
      "=================================================================\n",
      "embedding_4 (Embedding)      (None, 45, 50)            209250    \n",
      "_________________________________________________________________\n",
      "reshape_1 (Reshape)          (None, 45, 50, 1)         0         \n",
      "_________________________________________________________________\n",
      "conv2d_9 (Conv2D)            (None, 43, 48, 32)        320       \n",
      "_________________________________________________________________\n",
      "max_pooling2d_5 (MaxPooling2 (None, 21, 24, 32)        0         \n",
      "_________________________________________________________________\n",
      "conv2d_10 (Conv2D)           (None, 19, 22, 64)        18496     \n",
      "_________________________________________________________________\n",
      "max_pooling2d_6 (MaxPooling2 (None, 9, 11, 64)         0         \n",
      "_________________________________________________________________\n",
      "conv2d_11 (Conv2D)           (None, 7, 9, 64)          36928     \n",
      "_________________________________________________________________\n",
      "flatten_3 (Flatten)          (None, 4032)              0         \n",
      "_________________________________________________________________\n",
      "dense_5 (Dense)              (None, 64)                258112    \n",
      "_________________________________________________________________\n",
      "dense_6 (Dense)              (None, 3)                 195       \n",
      "=================================================================\n",
      "Total params: 523,301\n",
      "Trainable params: 314,051\n",
      "Non-trainable params: 209,250\n",
      "_________________________________________________________________\n"
     ]
    }
   ],
   "source": [
    "model=Sequential()\n",
    "model.add(Embedding(4185,50, weights=[weight_matrix], input_length=45, trainable=False))\n",
    "model.add(Reshape((45,50,1),input_shape=(45,50,)))\n",
    "model.add(Conv2D(32,(3,3),activation=\"relu\"))\n",
    "model.add(MaxPool2D((2,2),strides=2))\n",
    "model.add(Conv2D(64,(3,3),activation=\"relu\"))\n",
    "model.add(MaxPool2D((2,2)))\n",
    "model.add(Conv2D(64,(3,3),activation=\"relu\"))\n",
    "model.add(Flatten())\n",
    "model.add(Dense(64,activation=\"relu\"))\n",
    "model.add(Dense(3,activation=\"softmax\"))\n",
    "model.summary()"
   ]
  },
  {
   "cell_type": "code",
   "execution_count": 23,
   "metadata": {},
   "outputs": [],
   "source": [
    "model.compile(optimizer=\"adam\",loss=\"categorical_crossentropy\",metrics=['acc'])"
   ]
  },
  {
   "cell_type": "code",
   "execution_count": 24,
   "metadata": {},
   "outputs": [
    {
     "name": "stdout",
     "output_type": "stream",
     "text": [
      "Train on 8000 samples, validate on 2000 samples\n",
      "Epoch 1/15\n",
      "8000/8000 [==============================] - 19s 2ms/step - loss: 0.5978 - acc: 0.7534 - val_loss: 0.6812 - val_acc: 0.7025\n",
      "Epoch 2/15\n",
      "8000/8000 [==============================] - 18s 2ms/step - loss: 0.4534 - acc: 0.8170 - val_loss: 0.6199 - val_acc: 0.7485\n",
      "Epoch 3/15\n",
      "8000/8000 [==============================] - 19s 2ms/step - loss: 0.3754 - acc: 0.8559 - val_loss: 0.6145 - val_acc: 0.7470\n",
      "Epoch 4/15\n",
      "8000/8000 [==============================] - 18s 2ms/step - loss: 0.3256 - acc: 0.8748 - val_loss: 0.6443 - val_acc: 0.7470\n",
      "Epoch 5/15\n",
      "8000/8000 [==============================] - 19s 2ms/step - loss: 0.2806 - acc: 0.8892 - val_loss: 0.6418 - val_acc: 0.7660\n",
      "Epoch 6/15\n",
      "8000/8000 [==============================] - 18s 2ms/step - loss: 0.2542 - acc: 0.9026 - val_loss: 0.6632 - val_acc: 0.7585\n",
      "Epoch 7/15\n",
      "8000/8000 [==============================] - 19s 2ms/step - loss: 0.2236 - acc: 0.9131 - val_loss: 0.7176 - val_acc: 0.7695\n",
      "Epoch 8/15\n",
      "8000/8000 [==============================] - 19s 2ms/step - loss: 0.2098 - acc: 0.9209 - val_loss: 0.7036 - val_acc: 0.7735\n",
      "Epoch 9/15\n",
      "8000/8000 [==============================] - 19s 2ms/step - loss: 0.1927 - acc: 0.9256 - val_loss: 0.7227 - val_acc: 0.7330\n",
      "Epoch 10/15\n",
      "8000/8000 [==============================] - 19s 2ms/step - loss: 0.1837 - acc: 0.9293 - val_loss: 0.7914 - val_acc: 0.7700\n",
      "Epoch 11/15\n",
      "8000/8000 [==============================] - 19s 2ms/step - loss: 0.1727 - acc: 0.9319 - val_loss: 0.7781 - val_acc: 0.7795\n",
      "Epoch 12/15\n",
      "8000/8000 [==============================] - 19s 2ms/step - loss: 0.1693 - acc: 0.9330 - val_loss: 0.8924 - val_acc: 0.7640\n",
      "Epoch 13/15\n",
      "8000/8000 [==============================] - 19s 2ms/step - loss: 0.1592 - acc: 0.9367 - val_loss: 0.8813 - val_acc: 0.7935\n",
      "Epoch 14/15\n",
      "8000/8000 [==============================] - 21s 3ms/step - loss: 0.1515 - acc: 0.9405 - val_loss: 0.9310 - val_acc: 0.7815\n",
      "Epoch 15/15\n",
      "8000/8000 [==============================] - 19s 2ms/step - loss: 0.1494 - acc: 0.9423 - val_loss: 0.8997 - val_acc: 0.7825\n"
     ]
    }
   ],
   "source": [
    "hist=model.fit(X_train,Y_train,validation_split=.2,epochs=15,batch_size=32)"
   ]
  },
  {
   "cell_type": "code",
   "execution_count": 25,
   "metadata": {},
   "outputs": [
    {
     "data": {
      "text/plain": [
       "((10000, 45), (10000, 3))"
      ]
     },
     "execution_count": 25,
     "metadata": {},
     "output_type": "execute_result"
    }
   ],
   "source": [
    "X_train.shape ,Y_train.shape"
   ]
  },
  {
   "cell_type": "code",
   "execution_count": 26,
   "metadata": {},
   "outputs": [],
   "source": [
    "Y_pred=model.predict_classes(X_train)"
   ]
  },
  {
   "cell_type": "code",
   "execution_count": 27,
   "metadata": {},
   "outputs": [],
   "source": [
    "from sklearn.metrics import confusion_matrix"
   ]
  },
  {
   "cell_type": "code",
   "execution_count": 28,
   "metadata": {},
   "outputs": [
    {
     "data": {
      "text/plain": [
       "array([[6306,  268,   25],\n",
       "       [ 408, 2465,   19],\n",
       "       [ 111,   24,  374]], dtype=int64)"
      ]
     },
     "execution_count": 28,
     "metadata": {},
     "output_type": "execute_result"
    }
   ],
   "source": [
    "confusion_matrix(Y_encoded,Y_pred)"
   ]
  },
  {
   "cell_type": "markdown",
   "metadata": {},
   "source": [
    "# for 2 categories\n",
    "- removing entries for neutral"
   ]
  },
  {
   "cell_type": "code",
   "execution_count": 29,
   "metadata": {},
   "outputs": [],
   "source": [
    "data=pd.read_excel(\"sample tweets.xlsx\")"
   ]
  },
  {
   "cell_type": "code",
   "execution_count": 34,
   "metadata": {},
   "outputs": [],
   "source": [
    "data2=data[data['Sentiment'] != 'Neutral'].reset_index(drop=True)"
   ]
  },
  {
   "cell_type": "code",
   "execution_count": 35,
   "metadata": {},
   "outputs": [],
   "source": [
    "X2=data2['SentimentText']\n",
    "Y2=data2['Sentiment']"
   ]
  },
  {
   "cell_type": "code",
   "execution_count": 36,
   "metadata": {},
   "outputs": [],
   "source": [
    "unique={\n",
    "    \n",
    "}\n",
    "weight=[]\n",
    "k=1;\n",
    "X_train=np.zeros((X2.shape[0],45))\n",
    "X_train=X_train.astype('int32')\n",
    "for i in range(X2.shape[0]):\n",
    "    words=rg.tokenize(X2[i])\n",
    "    words=[w for w in words if w not in sw and w in glove_emb and len(w)>2]\n",
    "    \n",
    "    for j in range(min(len(words),45)):\n",
    "        if words[j].lower() in unique:\n",
    "            X_train[i][j]=unique[words[j].lower()]\n",
    "            \n",
    "        else:\n",
    "            weight.append(glove_emb[words[j]])\n",
    "            X_train[i][j]=k\n",
    "            unique[words[j].lower()]=k\n",
    "            k+=1"
   ]
  },
  {
   "cell_type": "code",
   "execution_count": 37,
   "metadata": {},
   "outputs": [],
   "source": [
    "weight_matrix=[np.zeros((50,))]+weight\n",
    "weight_matrix=np.array(weight_matrix)"
   ]
  },
  {
   "cell_type": "code",
   "execution_count": 38,
   "metadata": {},
   "outputs": [
    {
     "data": {
      "text/plain": [
       "(3679, 50)"
      ]
     },
     "execution_count": 38,
     "metadata": {},
     "output_type": "execute_result"
    }
   ],
   "source": [
    "weight_matrix.shape"
   ]
  },
  {
   "cell_type": "code",
   "execution_count": 39,
   "metadata": {},
   "outputs": [],
   "source": [
    "from sklearn.preprocessing import LabelEncoder\n",
    "le=LabelEncoder()\n",
    "Y_train=le.fit_transform(Y2)"
   ]
  },
  {
   "cell_type": "code",
   "execution_count": 40,
   "metadata": {},
   "outputs": [],
   "source": [
    "from keras.models import Sequential\n",
    "from keras.layers import *"
   ]
  },
  {
   "cell_type": "code",
   "execution_count": 41,
   "metadata": {},
   "outputs": [
    {
     "name": "stdout",
     "output_type": "stream",
     "text": [
      "Model: \"sequential_7\"\n",
      "_________________________________________________________________\n",
      "Layer (type)                 Output Shape              Param #   \n",
      "=================================================================\n",
      "embedding_5 (Embedding)      (None, 45, 50)            183950    \n",
      "_________________________________________________________________\n",
      "reshape_2 (Reshape)          (None, 45, 50, 1)         0         \n",
      "_________________________________________________________________\n",
      "conv2d_12 (Conv2D)           (None, 43, 48, 32)        320       \n",
      "_________________________________________________________________\n",
      "max_pooling2d_7 (MaxPooling2 (None, 21, 24, 32)        0         \n",
      "_________________________________________________________________\n",
      "conv2d_13 (Conv2D)           (None, 19, 22, 64)        18496     \n",
      "_________________________________________________________________\n",
      "max_pooling2d_8 (MaxPooling2 (None, 9, 11, 64)         0         \n",
      "_________________________________________________________________\n",
      "conv2d_14 (Conv2D)           (None, 7, 9, 64)          36928     \n",
      "_________________________________________________________________\n",
      "flatten_4 (Flatten)          (None, 4032)              0         \n",
      "_________________________________________________________________\n",
      "dense_7 (Dense)              (None, 64)                258112    \n",
      "_________________________________________________________________\n",
      "dense_8 (Dense)              (None, 1)                 65        \n",
      "=================================================================\n",
      "Total params: 497,871\n",
      "Trainable params: 313,921\n",
      "Non-trainable params: 183,950\n",
      "_________________________________________________________________\n"
     ]
    }
   ],
   "source": [
    "model=Sequential()\n",
    "model.add(Embedding(3679,50, weights=[weight_matrix], input_length=45, trainable=False))\n",
    "model.add(Reshape((45,50,1),input_shape=(45,50,)))\n",
    "model.add(Conv2D(32,(3,3),activation=\"relu\"))\n",
    "model.add(MaxPool2D((2,2),strides=2))\n",
    "model.add(Conv2D(64,(3,3),activation=\"relu\"))\n",
    "model.add(MaxPool2D((2,2)))\n",
    "model.add(Conv2D(64,(3,3),activation=\"relu\"))\n",
    "model.add(Flatten())\n",
    "model.add(Dense(64,activation=\"relu\"))\n",
    "model.add(Dense(1,activation=\"sigmoid\"))\n",
    "model.summary()"
   ]
  },
  {
   "cell_type": "code",
   "execution_count": 42,
   "metadata": {},
   "outputs": [],
   "source": [
    "model.compile(optimizer=\"adam\",loss=\"binary_crossentropy\",metrics=['acc'])"
   ]
  },
  {
   "cell_type": "code",
   "execution_count": null,
   "metadata": {},
   "outputs": [
    {
     "name": "stdout",
     "output_type": "stream",
     "text": [
      "Train on 5686 samples, validate on 1422 samples\n",
      "Epoch 1/15\n",
      "5686/5686 [==============================] - 13s 2ms/step - loss: 0.2343 - acc: 0.9275 - val_loss: 0.2880 - val_acc: 0.9100\n",
      "Epoch 2/15\n",
      "5686/5686 [==============================] - 13s 2ms/step - loss: 0.1921 - acc: 0.9330 - val_loss: 0.2662 - val_acc: 0.9100\n",
      "Epoch 3/15\n",
      "5686/5686 [==============================] - 13s 2ms/step - loss: 0.1669 - acc: 0.9372 - val_loss: 0.2491 - val_acc: 0.9191\n",
      "Epoch 4/15\n",
      "5686/5686 [==============================] - 13s 2ms/step - loss: 0.1403 - acc: 0.9553 - val_loss: 0.2592 - val_acc: 0.9156\n",
      "Epoch 5/15\n",
      "5686/5686 [==============================] - 14s 2ms/step - loss: 0.1196 - acc: 0.9592 - val_loss: 0.3163 - val_acc: 0.9170\n",
      "Epoch 6/15\n",
      "5686/5686 [==============================] - 14s 2ms/step - loss: 0.0987 - acc: 0.9678 - val_loss: 0.3231 - val_acc: 0.9226\n",
      "Epoch 7/15\n",
      "5686/5686 [==============================] - 14s 2ms/step - loss: 0.0795 - acc: 0.9724 - val_loss: 0.2939 - val_acc: 0.9072\n",
      "Epoch 8/15\n",
      "5686/5686 [==============================] - 13s 2ms/step - loss: 0.0658 - acc: 0.9763 - val_loss: 0.2839 - val_acc: 0.9276\n",
      "Epoch 9/15\n",
      "5686/5686 [==============================] - 14s 2ms/step - loss: 0.0617 - acc: 0.9812 - val_loss: 0.3493 - val_acc: 0.9107\n",
      "Epoch 10/15\n",
      "5686/5686 [==============================] - 14s 2ms/step - loss: 0.0503 - acc: 0.9847 - val_loss: 0.3613 - val_acc: 0.9093\n",
      "Epoch 11/15\n",
      "5686/5686 [==============================] - 14s 2ms/step - loss: 0.0485 - acc: 0.9861 - val_loss: 0.3833 - val_acc: 0.9177\n",
      "Epoch 12/15\n",
      "5686/5686 [==============================] - 14s 2ms/step - loss: 0.0438 - acc: 0.9872 - val_loss: 0.3790 - val_acc: 0.9233\n",
      "Epoch 13/15\n",
      "5686/5686 [==============================] - 14s 2ms/step - loss: 0.0435 - acc: 0.9861 - val_loss: 0.4009 - val_acc: 0.9023\n",
      "Epoch 14/15\n",
      "5686/5686 [==============================] - 14s 2ms/step - loss: 0.0399 - acc: 0.9882 - val_loss: 0.4080 - val_acc: 0.9107\n",
      "Epoch 15/15\n",
      "1568/5686 [=======>......................] - ETA: 9s - loss: 0.0345 - acc: 0.9885"
     ]
    }
   ],
   "source": [
    "hist=model.fit(X_train,Y_train,validation_split=.2,epochs=15,batch_size=32)"
   ]
  },
  {
   "cell_type": "code",
   "execution_count": 75,
   "metadata": {},
   "outputs": [],
   "source": [
    "Y_pred=model.predict_classes(X_train)"
   ]
  },
  {
   "cell_type": "code",
   "execution_count": 76,
   "metadata": {},
   "outputs": [
    {
     "data": {
      "text/plain": [
       "array([[6580,   19],\n",
       "       [ 181,  328]], dtype=int64)"
      ]
     },
     "execution_count": 76,
     "metadata": {},
     "output_type": "execute_result"
    }
   ],
   "source": [
    "from sklearn.metrics import confusion_matrix\n",
    "confusion_matrix(Y_train,Y_pred)"
   ]
  }
 ],
 "metadata": {
  "kernelspec": {
   "display_name": "Python 3",
   "language": "python",
   "name": "python3"
  },
  "language_info": {
   "codemirror_mode": {
    "name": "ipython",
    "version": 3
   },
   "file_extension": ".py",
   "mimetype": "text/x-python",
   "name": "python",
   "nbconvert_exporter": "python",
   "pygments_lexer": "ipython3",
   "version": "3.7.3"
  }
 },
 "nbformat": 4,
 "nbformat_minor": 2
}
