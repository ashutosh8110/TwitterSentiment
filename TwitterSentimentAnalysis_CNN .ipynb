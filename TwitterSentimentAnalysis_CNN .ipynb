{
 "cells": [
  {
   "cell_type": "markdown",
   "metadata": {},
   "source": [
    "## For 3 categories"
   ]
  },
  {
   "cell_type": "code",
   "execution_count": 1,
   "metadata": {},
   "outputs": [],
   "source": [
    "import pandas as pd\n",
    "import numpy as np"
   ]
  },
  {
   "cell_type": "code",
   "execution_count": 2,
   "metadata": {},
   "outputs": [],
   "source": [
    "data=pd.read_excel(\"sample tweets.xlsx\")"
   ]
  },
  {
   "cell_type": "code",
   "execution_count": 3,
   "metadata": {},
   "outputs": [],
   "source": [
    "X=data['SentimentText']\n",
    "Y=data['Sentiment']"
   ]
  },
  {
   "cell_type": "code",
   "execution_count": 4,
   "metadata": {},
   "outputs": [],
   "source": [
    "with open('../glove.txt',encoding='mbcs') as f:\n",
    "    doc=f.readlines()\n",
    "    \n",
    "glove_emb={\n",
    "          }\n",
    "for i in range(len(doc)):\n",
    "    word   = doc[i].split(\" \")[0]\n",
    "    vector = np.array(doc[i].split(\" \")[1:],dtype='float32')\n",
    "    \n",
    "    glove_emb[word]=vector"
   ]
  },
  {
   "cell_type": "code",
   "execution_count": 5,
   "metadata": {},
   "outputs": [
    {
     "data": {
      "text/plain": [
       "array([ 4.1800e-01,  2.4968e-01, -4.1242e-01,  1.2170e-01,  3.4527e-01,\n",
       "       -4.4457e-02, -4.9688e-01, -1.7862e-01, -6.6023e-04, -6.5660e-01,\n",
       "        2.7843e-01, -1.4767e-01, -5.5677e-01,  1.4658e-01, -9.5095e-03,\n",
       "        1.1658e-02,  1.0204e-01, -1.2792e-01, -8.4430e-01, -1.2181e-01,\n",
       "       -1.6801e-02, -3.3279e-01, -1.5520e-01, -2.3131e-01, -1.9181e-01,\n",
       "       -1.8823e+00, -7.6746e-01,  9.9051e-02, -4.2125e-01, -1.9526e-01,\n",
       "        4.0071e+00, -1.8594e-01, -5.2287e-01, -3.1681e-01,  5.9213e-04,\n",
       "        7.4449e-03,  1.7778e-01, -1.5897e-01,  1.2041e-02, -5.4223e-02,\n",
       "       -2.9871e-01, -1.5749e-01, -3.4758e-01, -4.5637e-02, -4.4251e-01,\n",
       "        1.8785e-01,  2.7849e-03, -1.8411e-01, -1.1514e-01, -7.8581e-01],\n",
       "      dtype=float32)"
      ]
     },
     "execution_count": 5,
     "metadata": {},
     "output_type": "execute_result"
    }
   ],
   "source": [
    "glove_emb['the']"
   ]
  },
  {
   "cell_type": "code",
   "execution_count": 6,
   "metadata": {},
   "outputs": [],
   "source": [
    "from nltk.corpus import stopwords\n",
    "from nltk.tokenize import RegexpTokenizer\n",
    "rg=RegexpTokenizer(\"[a-zA-Z]+\")\n",
    "sw=stopwords.words(\"english\")"
   ]
  },
  {
   "cell_type": "code",
   "execution_count": 7,
   "metadata": {},
   "outputs": [],
   "source": [
    "unique={\n",
    "    \n",
    "}\n",
    "weight=[]\n",
    "k=1;\n",
    "X_train=np.zeros((10000,45))\n",
    "X_train=X_train.astype('int32')\n",
    "for i in range(X.shape[0]):\n",
    "    words=rg.tokenize(X[i])\n",
    "    words=[w for w in words if w not in sw and w in glove_emb and len(w)>2]\n",
    "    \n",
    "    for j in range(min(len(words),45)):\n",
    "        if words[j].lower() in unique:\n",
    "            X_train[i][j]=unique[words[j].lower()]\n",
    "            \n",
    "        else:\n",
    "            weight.append(glove_emb[words[j]])\n",
    "            X_train[i][j]=k\n",
    "            unique[words[j].lower()]=k\n",
    "            k+=1"
   ]
  },
  {
   "cell_type": "code",
   "execution_count": 8,
   "metadata": {},
   "outputs": [],
   "source": [
    "weight_matrix=[np.zeros((50,))]+weight\n",
    "weight_matrix=np.array(weight_matrix)"
   ]
  },
  {
   "cell_type": "code",
   "execution_count": 9,
   "metadata": {},
   "outputs": [
    {
     "data": {
      "text/plain": [
       "(4185, 50)"
      ]
     },
     "execution_count": 9,
     "metadata": {},
     "output_type": "execute_result"
    }
   ],
   "source": [
    "weight_matrix.shape"
   ]
  },
  {
   "cell_type": "code",
   "execution_count": 10,
   "metadata": {},
   "outputs": [],
   "source": [
    "from sklearn.preprocessing import LabelEncoder"
   ]
  },
  {
   "cell_type": "code",
   "execution_count": 11,
   "metadata": {},
   "outputs": [],
   "source": [
    "le=LabelEncoder()"
   ]
  },
  {
   "cell_type": "code",
   "execution_count": 12,
   "metadata": {},
   "outputs": [],
   "source": [
    "Y_encoded=le.fit_transform(Y)"
   ]
  },
  {
   "cell_type": "code",
   "execution_count": 13,
   "metadata": {},
   "outputs": [
    {
     "name": "stderr",
     "output_type": "stream",
     "text": [
      "Using TensorFlow backend.\n"
     ]
    }
   ],
   "source": [
    "from keras.utils import to_categorical\n",
    "Y_train=to_categorical(Y_encoded)"
   ]
  },
  {
   "cell_type": "code",
   "execution_count": 14,
   "metadata": {},
   "outputs": [
    {
     "data": {
      "text/plain": [
       "array([[1., 0., 0.],\n",
       "       [0., 1., 0.],\n",
       "       [1., 0., 0.],\n",
       "       ...,\n",
       "       [1., 0., 0.],\n",
       "       [1., 0., 0.],\n",
       "       [0., 1., 0.]], dtype=float32)"
      ]
     },
     "execution_count": 14,
     "metadata": {},
     "output_type": "execute_result"
    }
   ],
   "source": [
    "Y_train"
   ]
  },
  {
   "cell_type": "code",
   "execution_count": 15,
   "metadata": {},
   "outputs": [],
   "source": [
    "from keras.models import Sequential\n",
    "from keras.layers import *"
   ]
  },
  {
   "cell_type": "code",
   "execution_count": 16,
   "metadata": {},
   "outputs": [
    {
     "name": "stdout",
     "output_type": "stream",
     "text": [
      "Model: \"sequential_1\"\n",
      "_________________________________________________________________\n",
      "Layer (type)                 Output Shape              Param #   \n",
      "=================================================================\n",
      "embedding_1 (Embedding)      (None, 45, 50)            209250    \n",
      "_________________________________________________________________\n",
      "reshape_1 (Reshape)          (None, 45, 50, 1)         0         \n",
      "_________________________________________________________________\n",
      "conv2d_1 (Conv2D)            (None, 43, 48, 32)        320       \n",
      "_________________________________________________________________\n",
      "max_pooling2d_1 (MaxPooling2 (None, 21, 24, 32)        0         \n",
      "_________________________________________________________________\n",
      "conv2d_2 (Conv2D)            (None, 19, 22, 64)        18496     \n",
      "_________________________________________________________________\n",
      "max_pooling2d_2 (MaxPooling2 (None, 9, 11, 64)         0         \n",
      "_________________________________________________________________\n",
      "conv2d_3 (Conv2D)            (None, 7, 9, 64)          36928     \n",
      "_________________________________________________________________\n",
      "flatten_1 (Flatten)          (None, 4032)              0         \n",
      "_________________________________________________________________\n",
      "dense_1 (Dense)              (None, 64)                258112    \n",
      "_________________________________________________________________\n",
      "dense_2 (Dense)              (None, 3)                 195       \n",
      "=================================================================\n",
      "Total params: 523,301\n",
      "Trainable params: 314,051\n",
      "Non-trainable params: 209,250\n",
      "_________________________________________________________________\n"
     ]
    }
   ],
   "source": [
    "model=Sequential()\n",
    "model.add(Embedding(4185,50, weights=[weight_matrix], input_length=45, trainable=False))\n",
    "model.add(Reshape((45,50,1),input_shape=(45,50,)))\n",
    "model.add(Conv2D(32,(3,3),activation=\"relu\"))\n",
    "model.add(MaxPool2D((2,2),strides=2))\n",
    "model.add(Conv2D(64,(3,3),activation=\"relu\"))\n",
    "model.add(MaxPool2D((2,2)))\n",
    "model.add(Conv2D(64,(3,3),activation=\"relu\"))\n",
    "model.add(Flatten())\n",
    "model.add(Dense(64,activation=\"relu\"))\n",
    "model.add(Dense(3,activation=\"softmax\"))\n",
    "model.summary()"
   ]
  },
  {
   "cell_type": "code",
   "execution_count": 17,
   "metadata": {},
   "outputs": [],
   "source": [
    "model.compile(optimizer=\"adam\",loss=\"categorical_crossentropy\",metrics=['acc'])"
   ]
  },
  {
   "cell_type": "code",
   "execution_count": 18,
   "metadata": {},
   "outputs": [
    {
     "name": "stdout",
     "output_type": "stream",
     "text": [
      "Train on 8000 samples, validate on 2000 samples\n",
      "Epoch 1/15\n",
      "8000/8000 [==============================] - 18s 2ms/step - loss: 0.6166 - acc: 0.7471 - val_loss: 0.6809 - val_acc: 0.7145\n",
      "Epoch 2/15\n",
      "8000/8000 [==============================] - 18s 2ms/step - loss: 0.4495 - acc: 0.8200 - val_loss: 0.6349 - val_acc: 0.7365\n",
      "Epoch 3/15\n",
      "8000/8000 [==============================] - 21s 3ms/step - loss: 0.3744 - acc: 0.8553 - val_loss: 0.6445 - val_acc: 0.7535\n",
      "Epoch 4/15\n",
      "8000/8000 [==============================] - 22s 3ms/step - loss: 0.3154 - acc: 0.8813 - val_loss: 0.6169 - val_acc: 0.7555\n",
      "Epoch 5/15\n",
      "8000/8000 [==============================] - 20s 3ms/step - loss: 0.2744 - acc: 0.8964 - val_loss: 0.5881 - val_acc: 0.7615\n",
      "Epoch 6/15\n",
      "8000/8000 [==============================] - 20s 2ms/step - loss: 0.2474 - acc: 0.9064 - val_loss: 0.6648 - val_acc: 0.7665\n",
      "Epoch 7/15\n",
      "8000/8000 [==============================] - 20s 2ms/step - loss: 0.2164 - acc: 0.9194 - val_loss: 0.6980 - val_acc: 0.7585\n",
      "Epoch 8/15\n",
      "8000/8000 [==============================] - 19s 2ms/step - loss: 0.2013 - acc: 0.9221 - val_loss: 0.6896 - val_acc: 0.7545\n",
      "Epoch 9/15\n",
      "8000/8000 [==============================] - 20s 2ms/step - loss: 0.1904 - acc: 0.9261 - val_loss: 0.7344 - val_acc: 0.7710\n",
      "Epoch 10/15\n",
      "8000/8000 [==============================] - 21s 3ms/step - loss: 0.1751 - acc: 0.9311 - val_loss: 0.7706 - val_acc: 0.7600\n",
      "Epoch 11/15\n",
      "8000/8000 [==============================] - 20s 3ms/step - loss: 0.1686 - acc: 0.9346 - val_loss: 0.7886 - val_acc: 0.7855\n",
      "Epoch 12/15\n",
      "8000/8000 [==============================] - 20s 3ms/step - loss: 0.1610 - acc: 0.9377 - val_loss: 0.7820 - val_acc: 0.7735\n",
      "Epoch 13/15\n",
      "8000/8000 [==============================] - 20s 3ms/step - loss: 0.1539 - acc: 0.9423 - val_loss: 0.8515 - val_acc: 0.7825\n",
      "Epoch 14/15\n",
      "8000/8000 [==============================] - 20s 3ms/step - loss: 0.1475 - acc: 0.9425 - val_loss: 0.8314 - val_acc: 0.7805\n",
      "Epoch 15/15\n",
      "8000/8000 [==============================] - 21s 3ms/step - loss: 0.1430 - acc: 0.9436 - val_loss: 0.8346 - val_acc: 0.7880\n"
     ]
    }
   ],
   "source": [
    "hist=model.fit(X_train,Y_train,validation_split=.2,epochs=15,batch_size=32)"
   ]
  },
  {
   "cell_type": "code",
   "execution_count": 19,
   "metadata": {},
   "outputs": [
    {
     "data": {
      "text/plain": [
       "((10000, 45), (10000, 3))"
      ]
     },
     "execution_count": 19,
     "metadata": {},
     "output_type": "execute_result"
    }
   ],
   "source": [
    "X_train.shape ,Y_train.shape"
   ]
  },
  {
   "cell_type": "code",
   "execution_count": 21,
   "metadata": {},
   "outputs": [],
   "source": [
    "Y_pred=model.predict_classes(X_train)"
   ]
  },
  {
   "cell_type": "code",
   "execution_count": 22,
   "metadata": {},
   "outputs": [],
   "source": [
    "from sklearn.metrics import confusion_matrix"
   ]
  },
  {
   "cell_type": "code",
   "execution_count": 23,
   "metadata": {},
   "outputs": [
    {
     "data": {
      "text/plain": [
       "array([[6357,  217,   25],\n",
       "       [ 458, 2419,   15],\n",
       "       [ 114,   24,  371]], dtype=int64)"
      ]
     },
     "execution_count": 23,
     "metadata": {},
     "output_type": "execute_result"
    }
   ],
   "source": [
    "confusion_matrix(Y_encoded,Y_pred)"
   ]
  },
  {
   "cell_type": "markdown",
   "metadata": {},
   "source": [
    "# for 2 categories\n",
    "- removing entries for neutral"
   ]
  },
  {
   "cell_type": "code",
   "execution_count": 24,
   "metadata": {},
   "outputs": [],
   "source": [
    "data=pd.read_excel(\"sample tweets.xlsx\")"
   ]
  },
  {
   "cell_type": "code",
   "execution_count": 25,
   "metadata": {},
   "outputs": [],
   "source": [
    "data2=data[data['Sentiment'] != 'Neutral'].reset_index(drop=True)"
   ]
  },
  {
   "cell_type": "code",
   "execution_count": 26,
   "metadata": {},
   "outputs": [],
   "source": [
    "X2=data2['SentimentText']\n",
    "Y2=data2['Sentiment']"
   ]
  },
  {
   "cell_type": "code",
   "execution_count": 27,
   "metadata": {},
   "outputs": [],
   "source": [
    "unique={\n",
    "    \n",
    "}\n",
    "weight=[]\n",
    "k=1;\n",
    "X_train=np.zeros((X2.shape[0],45))\n",
    "X_train=X_train.astype('int32')\n",
    "for i in range(X2.shape[0]):\n",
    "    words=rg.tokenize(X2[i])\n",
    "    words=[w for w in words if w not in sw and w in glove_emb and len(w)>2]\n",
    "    \n",
    "    for j in range(min(len(words),45)):\n",
    "        if words[j].lower() in unique:\n",
    "            X_train[i][j]=unique[words[j].lower()]\n",
    "            \n",
    "        else:\n",
    "            weight.append(glove_emb[words[j]])\n",
    "            X_train[i][j]=k\n",
    "            unique[words[j].lower()]=k\n",
    "            k+=1"
   ]
  },
  {
   "cell_type": "code",
   "execution_count": 28,
   "metadata": {},
   "outputs": [],
   "source": [
    "weight_matrix=[np.zeros((50,))]+weight\n",
    "weight_matrix=np.array(weight_matrix)"
   ]
  },
  {
   "cell_type": "code",
   "execution_count": 29,
   "metadata": {},
   "outputs": [
    {
     "data": {
      "text/plain": [
       "(3679, 50)"
      ]
     },
     "execution_count": 29,
     "metadata": {},
     "output_type": "execute_result"
    }
   ],
   "source": [
    "weight_matrix.shape"
   ]
  },
  {
   "cell_type": "code",
   "execution_count": 30,
   "metadata": {},
   "outputs": [],
   "source": [
    "from sklearn.preprocessing import LabelEncoder\n",
    "le=LabelEncoder()\n",
    "Y_train=le.fit_transform(Y2)"
   ]
  },
  {
   "cell_type": "code",
   "execution_count": 31,
   "metadata": {},
   "outputs": [],
   "source": [
    "from keras.models import Sequential\n",
    "from keras.layers import *"
   ]
  },
  {
   "cell_type": "code",
   "execution_count": 32,
   "metadata": {},
   "outputs": [
    {
     "name": "stdout",
     "output_type": "stream",
     "text": [
      "Model: \"sequential_2\"\n",
      "_________________________________________________________________\n",
      "Layer (type)                 Output Shape              Param #   \n",
      "=================================================================\n",
      "embedding_2 (Embedding)      (None, 45, 50)            183950    \n",
      "_________________________________________________________________\n",
      "reshape_2 (Reshape)          (None, 45, 50, 1)         0         \n",
      "_________________________________________________________________\n",
      "conv2d_4 (Conv2D)            (None, 43, 48, 32)        320       \n",
      "_________________________________________________________________\n",
      "max_pooling2d_3 (MaxPooling2 (None, 21, 24, 32)        0         \n",
      "_________________________________________________________________\n",
      "conv2d_5 (Conv2D)            (None, 19, 22, 64)        18496     \n",
      "_________________________________________________________________\n",
      "max_pooling2d_4 (MaxPooling2 (None, 9, 11, 64)         0         \n",
      "_________________________________________________________________\n",
      "conv2d_6 (Conv2D)            (None, 7, 9, 64)          36928     \n",
      "_________________________________________________________________\n",
      "flatten_2 (Flatten)          (None, 4032)              0         \n",
      "_________________________________________________________________\n",
      "dense_3 (Dense)              (None, 64)                258112    \n",
      "_________________________________________________________________\n",
      "dense_4 (Dense)              (None, 1)                 65        \n",
      "=================================================================\n",
      "Total params: 497,871\n",
      "Trainable params: 313,921\n",
      "Non-trainable params: 183,950\n",
      "_________________________________________________________________\n"
     ]
    }
   ],
   "source": [
    "model=Sequential()\n",
    "model.add(Embedding(3679,50, weights=[weight_matrix], input_length=45, trainable=False))\n",
    "model.add(Reshape((45,50,1),input_shape=(45,50,)))\n",
    "model.add(Conv2D(32,(3,3),activation=\"relu\"))\n",
    "model.add(MaxPool2D((2,2),strides=2))\n",
    "model.add(Conv2D(64,(3,3),activation=\"relu\"))\n",
    "model.add(MaxPool2D((2,2)))\n",
    "model.add(Conv2D(64,(3,3),activation=\"relu\"))\n",
    "model.add(Flatten())\n",
    "model.add(Dense(64,activation=\"relu\"))\n",
    "model.add(Dense(1,activation=\"sigmoid\"))\n",
    "model.summary()"
   ]
  },
  {
   "cell_type": "code",
   "execution_count": 33,
   "metadata": {},
   "outputs": [],
   "source": [
    "model.compile(optimizer=\"adam\",loss=\"binary_crossentropy\",metrics=['acc'])"
   ]
  },
  {
   "cell_type": "code",
   "execution_count": 34,
   "metadata": {},
   "outputs": [
    {
     "name": "stdout",
     "output_type": "stream",
     "text": [
      "Train on 5686 samples, validate on 1422 samples\n",
      "Epoch 1/15\n",
      "5686/5686 [==============================] - 13s 2ms/step - loss: 0.2394 - acc: 0.9332 - val_loss: 0.3080 - val_acc: 0.9100\n",
      "Epoch 2/15\n",
      "5686/5686 [==============================] - 15s 3ms/step - loss: 0.2038 - acc: 0.9330 - val_loss: 0.2835 - val_acc: 0.9100\n",
      "Epoch 3/15\n",
      "5686/5686 [==============================] - 14s 2ms/step - loss: 0.1766 - acc: 0.9330 - val_loss: 0.2541 - val_acc: 0.9100\n",
      "Epoch 4/15\n",
      "5686/5686 [==============================] - 16s 3ms/step - loss: 0.1544 - acc: 0.9451 - val_loss: 0.2747 - val_acc: 0.9100\n",
      "Epoch 5/15\n",
      "5686/5686 [==============================] - 14s 2ms/step - loss: 0.1280 - acc: 0.9599 - val_loss: 0.2519 - val_acc: 0.9205\n",
      "Epoch 6/15\n",
      "5686/5686 [==============================] - 14s 2ms/step - loss: 0.1069 - acc: 0.9664 - val_loss: 0.2695 - val_acc: 0.9269\n",
      "Epoch 7/15\n",
      "5686/5686 [==============================] - 14s 2ms/step - loss: 0.0896 - acc: 0.9726 - val_loss: 0.2683 - val_acc: 0.9283\n",
      "Epoch 8/15\n",
      "5686/5686 [==============================] - 14s 2ms/step - loss: 0.0791 - acc: 0.9771 - val_loss: 0.3455 - val_acc: 0.9241\n",
      "Epoch 9/15\n",
      "5686/5686 [==============================] - 14s 2ms/step - loss: 0.0768 - acc: 0.9791 - val_loss: 0.3536 - val_acc: 0.9248\n",
      "Epoch 10/15\n",
      "5686/5686 [==============================] - 14s 2ms/step - loss: 0.0696 - acc: 0.9819 - val_loss: 0.3789 - val_acc: 0.9388\n",
      "Epoch 11/15\n",
      "5686/5686 [==============================] - 14s 2ms/step - loss: 0.0637 - acc: 0.9842 - val_loss: 0.3866 - val_acc: 0.9325\n",
      "Epoch 12/15\n",
      "5686/5686 [==============================] - 14s 2ms/step - loss: 0.0604 - acc: 0.9847 - val_loss: 0.4183 - val_acc: 0.9367\n",
      "Epoch 13/15\n",
      "5686/5686 [==============================] - 14s 2ms/step - loss: 0.0510 - acc: 0.9868 - val_loss: 0.4015 - val_acc: 0.9360\n",
      "Epoch 14/15\n",
      "5686/5686 [==============================] - 14s 2ms/step - loss: 0.0395 - acc: 0.9882 - val_loss: 0.4705 - val_acc: 0.9360\n",
      "Epoch 15/15\n",
      "5686/5686 [==============================] - 14s 2ms/step - loss: 0.0495 - acc: 0.9836 - val_loss: 0.3109 - val_acc: 0.9325\n"
     ]
    }
   ],
   "source": [
    "hist=model.fit(X_train,Y_train,validation_split=.2,epochs=15,batch_size=32)"
   ]
  },
  {
   "cell_type": "code",
   "execution_count": 35,
   "metadata": {},
   "outputs": [],
   "source": [
    "Y_pred=model.predict_classes(X_train)"
   ]
  },
  {
   "cell_type": "code",
   "execution_count": 36,
   "metadata": {},
   "outputs": [
    {
     "data": {
      "text/plain": [
       "array([[6565,   34],\n",
       "       [ 126,  383]], dtype=int64)"
      ]
     },
     "execution_count": 36,
     "metadata": {},
     "output_type": "execute_result"
    }
   ],
   "source": [
    "from sklearn.metrics import confusion_matrix\n",
    "confusion_matrix(Y_train,Y_pred)"
   ]
  }
 ],
 "metadata": {
  "kernelspec": {
   "display_name": "Python 3",
   "language": "python",
   "name": "python3"
  },
  "language_info": {
   "codemirror_mode": {
    "name": "ipython",
    "version": 3
   },
   "file_extension": ".py",
   "mimetype": "text/x-python",
   "name": "python",
   "nbconvert_exporter": "python",
   "pygments_lexer": "ipython3",
   "version": "3.7.3"
  }
 },
 "nbformat": 4,
 "nbformat_minor": 2
}
