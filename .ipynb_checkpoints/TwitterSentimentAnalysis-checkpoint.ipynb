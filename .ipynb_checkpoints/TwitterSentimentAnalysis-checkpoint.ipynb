{
 "cells": [
  {
   "cell_type": "markdown",
   "metadata": {},
   "source": [
    "## For 3 categories"
   ]
  },
  {
   "cell_type": "code",
   "execution_count": 13,
   "metadata": {},
   "outputs": [],
   "source": [
    "import pandas as pd\n",
    "import numpy as np"
   ]
  },
  {
   "cell_type": "code",
   "execution_count": 3,
   "metadata": {},
   "outputs": [],
   "source": [
    "data=pd.read_excel(\"sample tweets.xlsx\")"
   ]
  },
  {
   "cell_type": "code",
   "execution_count": 9,
   "metadata": {},
   "outputs": [],
   "source": [
    "X=data['SentimentText']\n",
    "Y=data['Sentiment']"
   ]
  },
  {
   "cell_type": "code",
   "execution_count": 15,
   "metadata": {},
   "outputs": [],
   "source": [
    "with open('glove.txt',encoding='mbcs') as f:\n",
    "    doc=f.readlines()\n",
    "    \n",
    "glove_emb={\n",
    "          }\n",
    "for i in range(len(doc)):\n",
    "    word   = doc[i].split(\" \")[0]\n",
    "    vector = np.array(doc[i].split(\" \")[1:],dtype='float32')\n",
    "    \n",
    "    glove_emb[word]=vector"
   ]
  },
  {
   "cell_type": "code",
   "execution_count": 17,
   "metadata": {},
   "outputs": [
    {
     "data": {
      "text/plain": [
       "array([ 4.1800e-01,  2.4968e-01, -4.1242e-01,  1.2170e-01,  3.4527e-01,\n",
       "       -4.4457e-02, -4.9688e-01, -1.7862e-01, -6.6023e-04, -6.5660e-01,\n",
       "        2.7843e-01, -1.4767e-01, -5.5677e-01,  1.4658e-01, -9.5095e-03,\n",
       "        1.1658e-02,  1.0204e-01, -1.2792e-01, -8.4430e-01, -1.2181e-01,\n",
       "       -1.6801e-02, -3.3279e-01, -1.5520e-01, -2.3131e-01, -1.9181e-01,\n",
       "       -1.8823e+00, -7.6746e-01,  9.9051e-02, -4.2125e-01, -1.9526e-01,\n",
       "        4.0071e+00, -1.8594e-01, -5.2287e-01, -3.1681e-01,  5.9213e-04,\n",
       "        7.4449e-03,  1.7778e-01, -1.5897e-01,  1.2041e-02, -5.4223e-02,\n",
       "       -2.9871e-01, -1.5749e-01, -3.4758e-01, -4.5637e-02, -4.4251e-01,\n",
       "        1.8785e-01,  2.7849e-03, -1.8411e-01, -1.1514e-01, -7.8581e-01],\n",
       "      dtype=float32)"
      ]
     },
     "execution_count": 17,
     "metadata": {},
     "output_type": "execute_result"
    }
   ],
   "source": [
    "glove_emb['the']"
   ]
  },
  {
   "cell_type": "code",
   "execution_count": 18,
   "metadata": {},
   "outputs": [],
   "source": [
    "from nltk.corpus import stopwords\n",
    "from nltk.tokenize import RegexpTokenizer\n",
    "rg=RegexpTokenizer(\"[a-zA-Z]+\")\n",
    "sw=stopwords.words(\"english\")"
   ]
  },
  {
   "cell_type": "code",
   "execution_count": 64,
   "metadata": {},
   "outputs": [],
   "source": [
    "unique={\n",
    "    \n",
    "}\n",
    "weight=[]\n",
    "k=1;\n",
    "X_train=np.zeros((10000,45))\n",
    "X_train=X_train.astype('int32')\n",
    "for i in range(X.shape[0]):\n",
    "    words=rg.tokenize(X[i])\n",
    "    words=[w for w in words if w not in sw and w in glove_emb and len(w)>2]\n",
    "    \n",
    "    for j in range(min(len(words),45)):\n",
    "        if words[j].lower() in unique:\n",
    "            X_train[i][j]=unique[words[j].lower()]\n",
    "            \n",
    "        else:\n",
    "            weight.append(glove_emb[words[j]])\n",
    "            X_train[i][j]=k\n",
    "            unique[words[j].lower()]=k\n",
    "            k+=1"
   ]
  },
  {
   "cell_type": "code",
   "execution_count": 65,
   "metadata": {},
   "outputs": [],
   "source": [
    "weight_matrix=[np.zeros((50,))]+weight\n",
    "weight_matrix=np.array(weight_matrix)"
   ]
  },
  {
   "cell_type": "code",
   "execution_count": 66,
   "metadata": {},
   "outputs": [
    {
     "data": {
      "text/plain": [
       "(4185, 50)"
      ]
     },
     "execution_count": 66,
     "metadata": {},
     "output_type": "execute_result"
    }
   ],
   "source": [
    "weight_matrix.shape"
   ]
  },
  {
   "cell_type": "code",
   "execution_count": 67,
   "metadata": {},
   "outputs": [],
   "source": [
    "from sklearn.preprocessing import LabelEncoder"
   ]
  },
  {
   "cell_type": "code",
   "execution_count": 68,
   "metadata": {},
   "outputs": [],
   "source": [
    "le=LabelEncoder()"
   ]
  },
  {
   "cell_type": "code",
   "execution_count": 72,
   "metadata": {},
   "outputs": [],
   "source": [
    "Y_encoded=le.fit_transform(Y)"
   ]
  },
  {
   "cell_type": "code",
   "execution_count": 82,
   "metadata": {},
   "outputs": [],
   "source": [
    "from keras.utils import to_categorical\n",
    "Y_train=to_categorical(Y_encoded)"
   ]
  },
  {
   "cell_type": "code",
   "execution_count": 83,
   "metadata": {},
   "outputs": [
    {
     "data": {
      "text/plain": [
       "array([[1., 0., 0.],\n",
       "       [0., 1., 0.],\n",
       "       [1., 0., 0.],\n",
       "       ...,\n",
       "       [1., 0., 0.],\n",
       "       [1., 0., 0.],\n",
       "       [0., 1., 0.]], dtype=float32)"
      ]
     },
     "execution_count": 83,
     "metadata": {},
     "output_type": "execute_result"
    }
   ],
   "source": [
    "Y_train"
   ]
  },
  {
   "cell_type": "code",
   "execution_count": 84,
   "metadata": {},
   "outputs": [],
   "source": [
    "from keras.models import Sequential\n",
    "from keras.layers import *"
   ]
  },
  {
   "cell_type": "code",
   "execution_count": 114,
   "metadata": {},
   "outputs": [
    {
     "name": "stdout",
     "output_type": "stream",
     "text": [
      "Model: \"sequential_11\"\n",
      "_________________________________________________________________\n",
      "Layer (type)                 Output Shape              Param #   \n",
      "=================================================================\n",
      "embedding_11 (Embedding)     (None, 45, 50)            209250    \n",
      "_________________________________________________________________\n",
      "lstm_17 (LSTM)               (None, 45, 32)            10624     \n",
      "_________________________________________________________________\n",
      "dropout_17 (Dropout)         (None, 45, 32)            0         \n",
      "_________________________________________________________________\n",
      "lstm_18 (LSTM)               (None, 32)                8320      \n",
      "_________________________________________________________________\n",
      "dropout_18 (Dropout)         (None, 32)                0         \n",
      "_________________________________________________________________\n",
      "dense_9 (Dense)              (None, 3)                 99        \n",
      "=================================================================\n",
      "Total params: 228,293\n",
      "Trainable params: 19,043\n",
      "Non-trainable params: 209,250\n",
      "_________________________________________________________________\n"
     ]
    }
   ],
   "source": [
    "model=Sequential()\n",
    "model.add(Embedding(4185,50, weights=[weight_matrix], input_length=45, trainable=False))\n",
    "model.add(LSTM(32,return_sequences=True))\n",
    "model.add(Dropout(0.3))\n",
    "model.add(LSTM(32))\n",
    "model.add(Dropout(0.2))\n",
    "model.add(Dense(3,activation='softmax'))\n",
    "model.summary()"
   ]
  },
  {
   "cell_type": "code",
   "execution_count": 115,
   "metadata": {},
   "outputs": [],
   "source": [
    "model.compile(optimizer=\"adam\",loss=\"categorical_crossentropy\",metrics=['acc'])"
   ]
  },
  {
   "cell_type": "code",
   "execution_count": 116,
   "metadata": {},
   "outputs": [
    {
     "name": "stdout",
     "output_type": "stream",
     "text": [
      "Train on 8000 samples, validate on 2000 samples\n",
      "Epoch 1/15\n",
      "8000/8000 [==============================] - 15s 2ms/step - loss: 0.6781 - acc: 0.7240 - val_loss: 0.7597 - val_acc: 0.6860\n",
      "Epoch 2/15\n",
      "8000/8000 [==============================] - 14s 2ms/step - loss: 0.5121 - acc: 0.7997 - val_loss: 0.6655 - val_acc: 0.7300\n",
      "Epoch 3/15\n",
      "8000/8000 [==============================] - 14s 2ms/step - loss: 0.4669 - acc: 0.8282 - val_loss: 0.6516 - val_acc: 0.7205\n",
      "Epoch 4/15\n",
      "8000/8000 [==============================] - 15s 2ms/step - loss: 0.4336 - acc: 0.8342 - val_loss: 0.6249 - val_acc: 0.7385\n",
      "Epoch 5/15\n",
      "8000/8000 [==============================] - 14s 2ms/step - loss: 0.4131 - acc: 0.8396 - val_loss: 0.6366 - val_acc: 0.7500\n",
      "Epoch 6/15\n",
      "8000/8000 [==============================] - 13s 2ms/step - loss: 0.3940 - acc: 0.8515 - val_loss: 0.7484 - val_acc: 0.7140\n",
      "Epoch 7/15\n",
      "8000/8000 [==============================] - 14s 2ms/step - loss: 0.3748 - acc: 0.8576 - val_loss: 0.6175 - val_acc: 0.7625\n",
      "Epoch 8/15\n",
      "8000/8000 [==============================] - 13s 2ms/step - loss: 0.3793 - acc: 0.8539 - val_loss: 0.7483 - val_acc: 0.6320\n",
      "Epoch 9/15\n",
      "8000/8000 [==============================] - 12s 2ms/step - loss: 0.4092 - acc: 0.8344 - val_loss: 0.6552 - val_acc: 0.7485\n",
      "Epoch 10/15\n",
      "8000/8000 [==============================] - 12s 2ms/step - loss: 0.3665 - acc: 0.8589 - val_loss: 0.6435 - val_acc: 0.7500\n",
      "Epoch 11/15\n",
      "8000/8000 [==============================] - 12s 2ms/step - loss: 0.3637 - acc: 0.8618 - val_loss: 0.6023 - val_acc: 0.7800\n",
      "Epoch 12/15\n",
      "8000/8000 [==============================] - 13s 2ms/step - loss: 0.3409 - acc: 0.8696 - val_loss: 0.6633 - val_acc: 0.7705\n",
      "Epoch 13/15\n",
      "8000/8000 [==============================] - 12s 2ms/step - loss: 0.3335 - acc: 0.8725 - val_loss: 0.6166 - val_acc: 0.7850\n",
      "Epoch 14/15\n",
      "8000/8000 [==============================] - 12s 2ms/step - loss: 0.3232 - acc: 0.8761 - val_loss: 0.6065 - val_acc: 0.7775\n",
      "Epoch 15/15\n",
      "8000/8000 [==============================] - 13s 2ms/step - loss: 0.3109 - acc: 0.8810 - val_loss: 0.6201 - val_acc: 0.7705\n"
     ]
    }
   ],
   "source": [
    "hist=model.fit(X_train,Y_train,validation_split=.2,epochs=15,batch_size=32)"
   ]
  },
  {
   "cell_type": "code",
   "execution_count": 92,
   "metadata": {},
   "outputs": [
    {
     "data": {
      "text/plain": [
       "((10000, 45), (10000, 3))"
      ]
     },
     "execution_count": 92,
     "metadata": {},
     "output_type": "execute_result"
    }
   ],
   "source": [
    "X_train.shape ,Y_train.shape"
   ]
  },
  {
   "cell_type": "markdown",
   "metadata": {},
   "source": []
  },
  {
   "cell_type": "code",
   "execution_count": null,
   "metadata": {},
   "outputs": [],
   "source": []
  }
 ],
 "metadata": {
  "kernelspec": {
   "display_name": "Python 3",
   "language": "python",
   "name": "python3"
  },
  "language_info": {
   "codemirror_mode": {
    "name": "ipython",
    "version": 3
   },
   "file_extension": ".py",
   "mimetype": "text/x-python",
   "name": "python",
   "nbconvert_exporter": "python",
   "pygments_lexer": "ipython3",
   "version": "3.7.3"
  }
 },
 "nbformat": 4,
 "nbformat_minor": 2
}
