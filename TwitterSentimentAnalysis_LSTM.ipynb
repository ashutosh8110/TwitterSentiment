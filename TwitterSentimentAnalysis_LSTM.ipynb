{
 "cells": [
  {
   "cell_type": "markdown",
   "metadata": {},
   "source": [
    "## For 3 categories"
   ]
  },
  {
   "cell_type": "code",
   "execution_count": 1,
   "metadata": {},
   "outputs": [],
   "source": [
    "import pandas as pd\n",
    "import numpy as np"
   ]
  },
  {
   "cell_type": "code",
   "execution_count": 2,
   "metadata": {},
   "outputs": [],
   "source": [
    "data=pd.read_excel(\"sample tweets.xlsx\")"
   ]
  },
  {
   "cell_type": "code",
   "execution_count": 3,
   "metadata": {},
   "outputs": [],
   "source": [
    "X=data['SentimentText']\n",
    "Y=data['Sentiment']"
   ]
  },
  {
   "cell_type": "code",
   "execution_count": 4,
   "metadata": {},
   "outputs": [],
   "source": [
    "with open('../glove.txt',encoding='mbcs') as f:\n",
    "    doc=f.readlines()\n",
    "    \n",
    "glove_emb={\n",
    "          }\n",
    "for i in range(len(doc)):\n",
    "    word   = doc[i].split(\" \")[0]\n",
    "    vector = np.array(doc[i].split(\" \")[1:],dtype='float32')\n",
    "    \n",
    "    glove_emb[word]=vector"
   ]
  },
  {
   "cell_type": "code",
   "execution_count": 5,
   "metadata": {},
   "outputs": [
    {
     "data": {
      "text/plain": [
       "array([ 4.1800e-01,  2.4968e-01, -4.1242e-01,  1.2170e-01,  3.4527e-01,\n",
       "       -4.4457e-02, -4.9688e-01, -1.7862e-01, -6.6023e-04, -6.5660e-01,\n",
       "        2.7843e-01, -1.4767e-01, -5.5677e-01,  1.4658e-01, -9.5095e-03,\n",
       "        1.1658e-02,  1.0204e-01, -1.2792e-01, -8.4430e-01, -1.2181e-01,\n",
       "       -1.6801e-02, -3.3279e-01, -1.5520e-01, -2.3131e-01, -1.9181e-01,\n",
       "       -1.8823e+00, -7.6746e-01,  9.9051e-02, -4.2125e-01, -1.9526e-01,\n",
       "        4.0071e+00, -1.8594e-01, -5.2287e-01, -3.1681e-01,  5.9213e-04,\n",
       "        7.4449e-03,  1.7778e-01, -1.5897e-01,  1.2041e-02, -5.4223e-02,\n",
       "       -2.9871e-01, -1.5749e-01, -3.4758e-01, -4.5637e-02, -4.4251e-01,\n",
       "        1.8785e-01,  2.7849e-03, -1.8411e-01, -1.1514e-01, -7.8581e-01],\n",
       "      dtype=float32)"
      ]
     },
     "execution_count": 5,
     "metadata": {},
     "output_type": "execute_result"
    }
   ],
   "source": [
    "glove_emb['the']"
   ]
  },
  {
   "cell_type": "code",
   "execution_count": 6,
   "metadata": {},
   "outputs": [],
   "source": [
    "from nltk.corpus import stopwords\n",
    "from nltk.tokenize import RegexpTokenizer\n",
    "rg=RegexpTokenizer(\"[a-zA-Z]+\")\n",
    "sw=stopwords.words(\"english\")"
   ]
  },
  {
   "cell_type": "code",
   "execution_count": 7,
   "metadata": {},
   "outputs": [],
   "source": [
    "unique={\n",
    "    \n",
    "}\n",
    "weight=[]\n",
    "k=1;\n",
    "X_train=np.zeros((10000,45))\n",
    "X_train=X_train.astype('int32')\n",
    "for i in range(X.shape[0]):\n",
    "    words=rg.tokenize(X[i])\n",
    "    words=[w for w in words if w not in sw and w in glove_emb and len(w)>2]\n",
    "    \n",
    "    for j in range(min(len(words),45)):\n",
    "        if words[j].lower() in unique:\n",
    "            X_train[i][j]=unique[words[j].lower()]\n",
    "            \n",
    "        else:\n",
    "            weight.append(glove_emb[words[j]])\n",
    "            X_train[i][j]=k\n",
    "            unique[words[j].lower()]=k\n",
    "            k+=1"
   ]
  },
  {
   "cell_type": "code",
   "execution_count": 8,
   "metadata": {},
   "outputs": [],
   "source": [
    "weight_matrix=[np.zeros((50,))]+weight\n",
    "weight_matrix=np.array(weight_matrix)"
   ]
  },
  {
   "cell_type": "code",
   "execution_count": 9,
   "metadata": {},
   "outputs": [
    {
     "data": {
      "text/plain": [
       "(4185, 50)"
      ]
     },
     "execution_count": 9,
     "metadata": {},
     "output_type": "execute_result"
    }
   ],
   "source": [
    "weight_matrix.shape"
   ]
  },
  {
   "cell_type": "code",
   "execution_count": 10,
   "metadata": {},
   "outputs": [],
   "source": [
    "from sklearn.preprocessing import LabelEncoder"
   ]
  },
  {
   "cell_type": "code",
   "execution_count": 11,
   "metadata": {},
   "outputs": [],
   "source": [
    "le=LabelEncoder()"
   ]
  },
  {
   "cell_type": "code",
   "execution_count": 12,
   "metadata": {},
   "outputs": [],
   "source": [
    "Y_encoded=le.fit_transform(Y)"
   ]
  },
  {
   "cell_type": "code",
   "execution_count": 13,
   "metadata": {},
   "outputs": [
    {
     "name": "stderr",
     "output_type": "stream",
     "text": [
      "Using TensorFlow backend.\n"
     ]
    }
   ],
   "source": [
    "from keras.utils import to_categorical\n",
    "Y_train=to_categorical(Y_encoded)"
   ]
  },
  {
   "cell_type": "code",
   "execution_count": 14,
   "metadata": {},
   "outputs": [
    {
     "data": {
      "text/plain": [
       "array([[1., 0., 0.],\n",
       "       [0., 1., 0.],\n",
       "       [1., 0., 0.],\n",
       "       ...,\n",
       "       [1., 0., 0.],\n",
       "       [1., 0., 0.],\n",
       "       [0., 1., 0.]], dtype=float32)"
      ]
     },
     "execution_count": 14,
     "metadata": {},
     "output_type": "execute_result"
    }
   ],
   "source": [
    "Y_train"
   ]
  },
  {
   "cell_type": "code",
   "execution_count": 15,
   "metadata": {},
   "outputs": [],
   "source": [
    "from keras.models import Sequential\n",
    "from keras.layers import *"
   ]
  },
  {
   "cell_type": "code",
   "execution_count": 16,
   "metadata": {},
   "outputs": [
    {
     "name": "stdout",
     "output_type": "stream",
     "text": [
      "Model: \"sequential_1\"\n",
      "_________________________________________________________________\n",
      "Layer (type)                 Output Shape              Param #   \n",
      "=================================================================\n",
      "embedding_1 (Embedding)      (None, 45, 50)            209250    \n",
      "_________________________________________________________________\n",
      "lstm_1 (LSTM)                (None, 45, 32)            10624     \n",
      "_________________________________________________________________\n",
      "dropout_1 (Dropout)          (None, 45, 32)            0         \n",
      "_________________________________________________________________\n",
      "lstm_2 (LSTM)                (None, 32)                8320      \n",
      "_________________________________________________________________\n",
      "dropout_2 (Dropout)          (None, 32)                0         \n",
      "_________________________________________________________________\n",
      "dense_1 (Dense)              (None, 3)                 99        \n",
      "=================================================================\n",
      "Total params: 228,293\n",
      "Trainable params: 19,043\n",
      "Non-trainable params: 209,250\n",
      "_________________________________________________________________\n"
     ]
    }
   ],
   "source": [
    "model=Sequential()\n",
    "model.add(Embedding(4185,50, weights=[weight_matrix], input_length=45, trainable=False))\n",
    "model.add(LSTM(32,return_sequences=True))\n",
    "model.add(Dropout(0.3))\n",
    "model.add(LSTM(32))\n",
    "model.add(Dropout(0.2))\n",
    "model.add(Dense(3,activation='softmax'))\n",
    "model.summary()"
   ]
  },
  {
   "cell_type": "code",
   "execution_count": 17,
   "metadata": {},
   "outputs": [],
   "source": [
    "model.compile(optimizer=\"adam\",loss=\"categorical_crossentropy\",metrics=['acc'])"
   ]
  },
  {
   "cell_type": "code",
   "execution_count": 18,
   "metadata": {},
   "outputs": [
    {
     "name": "stdout",
     "output_type": "stream",
     "text": [
      "Train on 8000 samples, validate on 2000 samples\n",
      "Epoch 1/15\n",
      "8000/8000 [==============================] - 10s 1ms/step - loss: 0.7043 - acc: 0.7103 - val_loss: 0.7269 - val_acc: 0.6785\n",
      "Epoch 2/15\n",
      "8000/8000 [==============================] - 9s 1ms/step - loss: 0.5452 - acc: 0.7831 - val_loss: 0.6856 - val_acc: 0.7245\n",
      "Epoch 3/15\n",
      "8000/8000 [==============================] - 9s 1ms/step - loss: 0.4673 - acc: 0.8227 - val_loss: 0.6556 - val_acc: 0.7545\n",
      "Epoch 4/15\n",
      "8000/8000 [==============================] - 9s 1ms/step - loss: 0.4532 - acc: 0.8260 - val_loss: 0.6613 - val_acc: 0.7545\n",
      "Epoch 5/15\n",
      "8000/8000 [==============================] - 10s 1ms/step - loss: 0.4067 - acc: 0.8491 - val_loss: 0.6923 - val_acc: 0.7465\n",
      "Epoch 6/15\n",
      "8000/8000 [==============================] - 11s 1ms/step - loss: 0.3905 - acc: 0.8515 - val_loss: 0.6080 - val_acc: 0.7480\n",
      "Epoch 7/15\n",
      "8000/8000 [==============================] - 10s 1ms/step - loss: 0.3781 - acc: 0.8534 - val_loss: 0.6034 - val_acc: 0.7640\n",
      "Epoch 8/15\n",
      "8000/8000 [==============================] - 10s 1ms/step - loss: 0.3629 - acc: 0.8577 - val_loss: 0.6495 - val_acc: 0.7460\n",
      "Epoch 9/15\n",
      "8000/8000 [==============================] - 10s 1ms/step - loss: 0.3474 - acc: 0.8666 - val_loss: 0.6662 - val_acc: 0.7570\n",
      "Epoch 10/15\n",
      "8000/8000 [==============================] - 10s 1ms/step - loss: 0.3385 - acc: 0.8704 - val_loss: 0.6055 - val_acc: 0.7590\n",
      "Epoch 11/15\n",
      "8000/8000 [==============================] - 10s 1ms/step - loss: 0.3339 - acc: 0.8737 - val_loss: 0.6517 - val_acc: 0.7580\n",
      "Epoch 12/15\n",
      "8000/8000 [==============================] - 10s 1ms/step - loss: 0.3202 - acc: 0.8766 - val_loss: 0.6704 - val_acc: 0.7595\n",
      "Epoch 13/15\n",
      "8000/8000 [==============================] - 10s 1ms/step - loss: 0.3113 - acc: 0.8764 - val_loss: 0.7009 - val_acc: 0.7675\n",
      "Epoch 14/15\n",
      "8000/8000 [==============================] - 10s 1ms/step - loss: 0.3052 - acc: 0.8800 - val_loss: 0.6574 - val_acc: 0.7600\n",
      "Epoch 15/15\n",
      "8000/8000 [==============================] - 10s 1ms/step - loss: 0.3016 - acc: 0.8821 - val_loss: 0.6555 - val_acc: 0.7665\n"
     ]
    }
   ],
   "source": [
    "hist=model.fit(X_train,Y_train,validation_split=.2,epochs=15,batch_size=32)"
   ]
  },
  {
   "cell_type": "code",
   "execution_count": 23,
   "metadata": {},
   "outputs": [
    {
     "data": {
      "text/plain": [
       "((10000, 45), (10000, 3))"
      ]
     },
     "execution_count": 23,
     "metadata": {},
     "output_type": "execute_result"
    }
   ],
   "source": [
    "X_train.shape ,Y_train.shape"
   ]
  },
  {
   "cell_type": "code",
   "execution_count": 24,
   "metadata": {},
   "outputs": [],
   "source": [
    "Y_pred=model.predict_classes(X_train)"
   ]
  },
  {
   "cell_type": "code",
   "execution_count": 25,
   "metadata": {},
   "outputs": [],
   "source": [
    "from sklearn.metrics import confusion_matrix"
   ]
  },
  {
   "cell_type": "code",
   "execution_count": 26,
   "metadata": {},
   "outputs": [
    {
     "data": {
      "text/plain": [
       "array([[5811,  775,   13],\n",
       "       [ 324, 2555,   13],\n",
       "       [ 116,  159,  234]], dtype=int64)"
      ]
     },
     "execution_count": 26,
     "metadata": {},
     "output_type": "execute_result"
    }
   ],
   "source": [
    "confusion_matrix(Y_encoded,Y_pred)"
   ]
  },
  {
   "cell_type": "markdown",
   "metadata": {},
   "source": [
    "# for 2 categories\n",
    "- removing entries for neutral"
   ]
  },
  {
   "cell_type": "code",
   "execution_count": 27,
   "metadata": {},
   "outputs": [],
   "source": [
    "data=pd.read_excel(\"sample tweets.xlsx\")"
   ]
  },
  {
   "cell_type": "code",
   "execution_count": 28,
   "metadata": {},
   "outputs": [],
   "source": [
    "data2=data[data['Sentiment'] != 'Neutral'].reset_index(drop=True)"
   ]
  },
  {
   "cell_type": "code",
   "execution_count": 29,
   "metadata": {},
   "outputs": [],
   "source": [
    "X2=data2['SentimentText']\n",
    "Y2=data2['Sentiment']"
   ]
  },
  {
   "cell_type": "code",
   "execution_count": 30,
   "metadata": {},
   "outputs": [],
   "source": [
    "unique={\n",
    "    \n",
    "}\n",
    "weight=[]\n",
    "k=1;\n",
    "X_train=np.zeros((X2.shape[0],45))\n",
    "X_train=X_train.astype('int32')\n",
    "for i in range(X2.shape[0]):\n",
    "    words=rg.tokenize(X2[i])\n",
    "    words=[w for w in words if w not in sw and w in glove_emb and len(w)>2]\n",
    "    \n",
    "    for j in range(min(len(words),45)):\n",
    "        if words[j].lower() in unique:\n",
    "            X_train[i][j]=unique[words[j].lower()]\n",
    "            \n",
    "        else:\n",
    "            weight.append(glove_emb[words[j]])\n",
    "            X_train[i][j]=k\n",
    "            unique[words[j].lower()]=k\n",
    "            k+=1"
   ]
  },
  {
   "cell_type": "code",
   "execution_count": 31,
   "metadata": {},
   "outputs": [],
   "source": [
    "weight_matrix=[np.zeros((50,))]+weight\n",
    "weight_matrix=np.array(weight_matrix)"
   ]
  },
  {
   "cell_type": "code",
   "execution_count": 32,
   "metadata": {},
   "outputs": [
    {
     "data": {
      "text/plain": [
       "(3679, 50)"
      ]
     },
     "execution_count": 32,
     "metadata": {},
     "output_type": "execute_result"
    }
   ],
   "source": [
    "weight_matrix.shape"
   ]
  },
  {
   "cell_type": "code",
   "execution_count": 33,
   "metadata": {},
   "outputs": [],
   "source": [
    "from sklearn.preprocessing import LabelEncoder\n",
    "le=LabelEncoder()\n",
    "Y_train=le.fit_transform(Y2)"
   ]
  },
  {
   "cell_type": "code",
   "execution_count": 34,
   "metadata": {},
   "outputs": [],
   "source": [
    "from keras.models import Sequential\n",
    "from keras.layers import *"
   ]
  },
  {
   "cell_type": "code",
   "execution_count": 35,
   "metadata": {},
   "outputs": [
    {
     "name": "stdout",
     "output_type": "stream",
     "text": [
      "Model: \"sequential_2\"\n",
      "_________________________________________________________________\n",
      "Layer (type)                 Output Shape              Param #   \n",
      "=================================================================\n",
      "embedding_2 (Embedding)      (None, 45, 50)            183950    \n",
      "_________________________________________________________________\n",
      "lstm_3 (LSTM)                (None, 45, 32)            10624     \n",
      "_________________________________________________________________\n",
      "dropout_3 (Dropout)          (None, 45, 32)            0         \n",
      "_________________________________________________________________\n",
      "lstm_4 (LSTM)                (None, 32)                8320      \n",
      "_________________________________________________________________\n",
      "dropout_4 (Dropout)          (None, 32)                0         \n",
      "_________________________________________________________________\n",
      "dense_2 (Dense)              (None, 1)                 33        \n",
      "=================================================================\n",
      "Total params: 202,927\n",
      "Trainable params: 18,977\n",
      "Non-trainable params: 183,950\n",
      "_________________________________________________________________\n"
     ]
    }
   ],
   "source": [
    "model=Sequential()\n",
    "model.add(Embedding(3679,50, weights=[weight_matrix], input_length=45, trainable=False))\n",
    "model.add(LSTM(32,return_sequences=True))\n",
    "model.add(Dropout(0.3))\n",
    "model.add(LSTM(32))\n",
    "model.add(Dropout(0.2))\n",
    "model.add(Dense(1,activation='sigmoid'))\n",
    "model.summary()"
   ]
  },
  {
   "cell_type": "code",
   "execution_count": 36,
   "metadata": {},
   "outputs": [],
   "source": [
    "model.compile(optimizer=\"adam\",loss=\"binary_crossentropy\",metrics=['acc'])"
   ]
  },
  {
   "cell_type": "code",
   "execution_count": null,
   "metadata": {},
   "outputs": [
    {
     "name": "stdout",
     "output_type": "stream",
     "text": [
      "Train on 5686 samples, validate on 1422 samples\n",
      "Epoch 1/15\n",
      "5686/5686 [==============================] - 7s 1ms/step - loss: 0.2600 - acc: 0.9298 - val_loss: 0.3130 - val_acc: 0.9023\n",
      "Epoch 2/15\n",
      "5686/5686 [==============================] - 6s 1ms/step - loss: 0.1738 - acc: 0.9458 - val_loss: 0.3001 - val_acc: 0.8797\n",
      "Epoch 3/15\n",
      "5686/5686 [==============================] - 6s 1ms/step - loss: 0.1644 - acc: 0.9502 - val_loss: 0.2688 - val_acc: 0.9015\n",
      "Epoch 4/15\n",
      "5686/5686 [==============================] - 6s 1ms/step - loss: 0.1470 - acc: 0.9590 - val_loss: 0.2933 - val_acc: 0.9121\n",
      "Epoch 5/15\n",
      "5686/5686 [==============================] - 6s 1ms/step - loss: 0.1388 - acc: 0.9610 - val_loss: 0.2757 - val_acc: 0.9100\n",
      "Epoch 6/15\n",
      "5686/5686 [==============================] - 7s 1ms/step - loss: 0.1464 - acc: 0.9590 - val_loss: 0.2811 - val_acc: 0.9100\n",
      "Epoch 7/15\n",
      "5686/5686 [==============================] - 7s 1ms/step - loss: 0.1314 - acc: 0.9620 - val_loss: 0.2650 - val_acc: 0.9191\n",
      "Epoch 8/15\n",
      "5686/5686 [==============================] - 7s 1ms/step - loss: 0.1239 - acc: 0.9647 - val_loss: 0.2505 - val_acc: 0.9191\n",
      "Epoch 9/15\n",
      "5686/5686 [==============================] - 7s 1ms/step - loss: 0.1267 - acc: 0.9620 - val_loss: 0.2804 - val_acc: 0.9177\n",
      "Epoch 10/15\n",
      "3776/5686 [==================>...........] - ETA: 2s - loss: 0.1205 - acc: 0.9658"
     ]
    }
   ],
   "source": [
    "hist=model.fit(X_train,Y_train,validation_split=.2,epochs=15,batch_size=32)"
   ]
  },
  {
   "cell_type": "code",
   "execution_count": 75,
   "metadata": {},
   "outputs": [],
   "source": [
    "Y_pred=model.predict_classes(X_train)"
   ]
  },
  {
   "cell_type": "code",
   "execution_count": 76,
   "metadata": {},
   "outputs": [
    {
     "data": {
      "text/plain": [
       "array([[6580,   19],\n",
       "       [ 181,  328]], dtype=int64)"
      ]
     },
     "execution_count": 76,
     "metadata": {},
     "output_type": "execute_result"
    }
   ],
   "source": [
    "from sklearn.metrics import confusion_matrix\n",
    "confusion_matrix(Y_train,Y_pred)"
   ]
  }
 ],
 "metadata": {
  "kernelspec": {
   "display_name": "Python 3",
   "language": "python",
   "name": "python3"
  },
  "language_info": {
   "codemirror_mode": {
    "name": "ipython",
    "version": 3
   },
   "file_extension": ".py",
   "mimetype": "text/x-python",
   "name": "python",
   "nbconvert_exporter": "python",
   "pygments_lexer": "ipython3",
   "version": "3.7.3"
  }
 },
 "nbformat": 4,
 "nbformat_minor": 2
}
